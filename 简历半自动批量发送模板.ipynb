{
 "cells": [
  {
   "cell_type": "markdown",
   "metadata": {},
   "source": [
    "### 1. 下载实习信息\n",
    "我是在求职汇公众号找到的实习信息。他们每天发布实习信息，而且数量比较多，适合使用python处理"
   ]
  },
  {
   "cell_type": "code",
   "execution_count": null,
   "metadata": {
    "scrolled": true
   },
   "outputs": [],
   "source": [
    "import requests\n",
    "url = \"https://mp.weixin.qq.com/s/sw3zrQuqR9667PYnxw98oQ\"\n",
    "from selenium import webdriver #需要驱动文件\n",
    "import re"
   ]
  },
  {
   "cell_type": "code",
   "execution_count": null,
   "metadata": {},
   "outputs": [],
   "source": [
    "xpath_all = '//*[@id=\"js_content\"]'\n",
    "option=webdriver.ChromeOptions()\n",
    "option.add_argument('--headless')\n",
    "driver=webdriver.Chrome(options=option,executable_path=\"chromedriver.exe\")\n",
    "driver.get(url=url)\n",
    "req=driver.find_element_by_xpath(xpath_all)"
   ]
  },
  {
   "cell_type": "code",
   "execution_count": null,
   "metadata": {},
   "outputs": [],
   "source": [
    "len(req.text)"
   ]
  },
  {
   "cell_type": "markdown",
   "metadata": {},
   "source": [
    "### 2. 简单筛选出我想要的实习信息——可以远程的\n",
    "从简单的文本信息中提取邮件信息、职位title、职位详细描述和要求发送邮件的主题和简历的文件名"
   ]
  },
  {
   "cell_type": "code",
   "execution_count": null,
   "metadata": {},
   "outputs": [],
   "source": [
    "all_jobs = req.text.split(\"#\")\n",
    "# define a function to get all the job titles and the number\n",
    "def selection(all_intern):\n",
    "    job_titles = {}\n",
    "    i = -1\n",
    "    for intern in all_intern:\n",
    "        i += 1\n",
    "        if \"远程\" in intern and i >0:\n",
    "            inde = intern.index(\"远程\")\n",
    "            if \"不\" not in intern[inde-10:inde] and \"无\" not in intern[inde-10:inde]:\n",
    "                intern_title = intern.split(\"\\n\")[0]\n",
    "                job_titles[i] = intern_title  \n",
    "    return job_titles\n",
    "selected = selection(all_jobs)\n",
    "selected"
   ]
  },
  {
   "cell_type": "code",
   "execution_count": null,
   "metadata": {},
   "outputs": [],
   "source": [
    "job_list = []\n",
    "for i in selected.keys():\n",
    "    #print(i)\n",
    "    job = all_jobs[i]\n",
    "    # get the main information of the job\n",
    "    job_title = job.split(\"\\n\")[0]\n",
    "    # get the job description(a long sentence)\n",
    "    job_descrip = re.split(r'\\n',job, 1)[1]\n",
    "    # find the sending email address\n",
    "    match = re.search(r'[a-zA-Z0-9_-]+@[a-zA-Z0-9_-]+(\\.[a-zA-Z0-9_-]+)+', job_descrip)\n",
    "    job_email = match.group(0)\n",
    "    decrip_without_email = job_descrip[:match.start()] + job_descrip[match.end():]\n",
    "    # extract the title of the email from job_descrip\n",
    "    m1 = re.search(r'\\u201c',decrip_without_email)\n",
    "    m2 = re.search(r'\\u201d',decrip_without_email)\n",
    "    if m1 is not None and m2 is not None:\n",
    "        email_title = decrip_without_email[m1.start()+1:m2.end()-1]\n",
    "        title_match = re.search(r'[\\_\\+\\-]', email_title)\n",
    "        separation = title_match.group(0)\n",
    "    else:\n",
    "        title_match = re.search(r'[\\_\\+\\-]', decrip_without_email)\n",
    "        try:\n",
    "            separation = title_match.group(0)\n",
    "            t1 = decrip_without_email.split(separation)\n",
    "            t1[0] = re.split(r'[\\（\\）\\《\\》\\——\\；\\，\\。\\“\\”\\<\\>\\！\\【\\】\\：\\:\\n]',t1[0])[-1]\n",
    "            t1[-1] = re.split(r'[\\（\\）\\《\\》\\——\\；\\，\\。\\“\\”\\<\\>\\！\\【\\】\\n]',t1[-1])[0]\n",
    "            email_title = separation.join(t1)\n",
    "            if len(email_title)>100:\n",
    "                email_title = \"error\"\n",
    "        except:\n",
    "            email_title = None\n",
    "    # parse them into job_list\n",
    "    job_list.append([separation, job_title, job_email, email_title, job_descrip])\n",
    "        "
   ]
  },
  {
   "cell_type": "code",
   "execution_count": null,
   "metadata": {},
   "outputs": [],
   "source": [
    "len(job_list)"
   ]
  },
  {
   "cell_type": "markdown",
   "metadata": {},
   "source": [
    "### 3.发送邮件"
   ]
  },
  {
   "cell_type": "code",
   "execution_count": null,
   "metadata": {},
   "outputs": [],
   "source": [
    "from email.mime.text import MIMEText\n",
    "from email.mime.multipart import MIMEMultipart\n",
    "from email.header import Header\n",
    "from email.mime.application import MIMEApplication\n",
    "from email.mime.base import MIMEBase\n",
    "from email import encoders\n",
    "import smtplib as smtp\n",
    "import os"
   ]
  },
  {
   "cell_type": "code",
   "execution_count": null,
   "metadata": {},
   "outputs": [],
   "source": [
    "#在引号中填写自己的个人信息\n",
    "keywords_dict = {\n",
    "    \"姓名\": \"\",\n",
    "    \"年级\": \"\",\n",
    "    \"专业\": \"\",\n",
    "    \"联系方式\": \"\",\n",
    "    \"学校\": \"\",\n",
    "    \"本科学校\": \"\",\n",
    "    \"毕业时间\": \"\",\n",
    "    \"电话\": \"\"\n",
    "}"
   ]
  },
  {
   "cell_type": "code",
   "execution_count": null,
   "metadata": {},
   "outputs": [],
   "source": [
    "def get_real_title(separation, email_title):\n",
    "    real_title0 = separation.join([keywords_dict.get(i, i) for i in email_title.split(separation)])\n",
    "    print(real_title0)\n",
    "    real_title = input()\n",
    "    return real_title"
   ]
  },
  {
   "cell_type": "code",
   "execution_count": null,
   "metadata": {},
   "outputs": [],
   "source": [
    "def write_content(job_email, job_descrip):\n",
    "    header = job_email + '\\n' + job_descrip\n",
    "    # starter定义的每封邮件的开头\n",
    "    starter = \"您好！\\n\\n我是来自。\\n\"\n",
    "    # 根据职位描述中的关键词大致写一下正文内容\n",
    "    mwind = re.search(r'wind',job_descrip, flags=re.IGNORECASE)\n",
    "    mexcel = re.search(r'excel', job_descrip, flags=re.IGNORECASE)\n",
    "    mpython = re.search(r'python', job_descrip, flags=re.IGNORECASE)\n",
    "    zhongjian = \"\"\n",
    "    if mexcel:\n",
    "        zhongjian = zhongjian + \"\\n本人通过了计算机二级OFFICE的考试，能够熟练运用Excel的数据透视表和各类函数功能。\\n\"\n",
    "    if mwind:\n",
    "        zhongjian = zhongjian + \"\\n\\n\"\n",
    "    if mpython:\n",
    "        zhongjian = zhongjian + \"\\n本人能够熟练使用python的pandas和numpy进行数据清洗和数据分析。\\n\"\n",
    "    # 邮件结尾固定，写实习时间和感谢语\n",
    "    ending = \"\\n关于实习时间，\\n\\n简历已经添加在附件中，希望您能考虑我的申请！\"\n",
    "    \n",
    "    # 下面提供可以修改中间段内容的选项\n",
    "#     下面三行可以将中间段内容自动存入剪贴板，觉得没必要可以不用\n",
    "#     import pyperclip\n",
    "#     pyperclip.copy(zhongjian)\n",
    "#     spam = pyperclip.paste() \n",
    "    cover = input(zhongjian)\n",
    "    return starter + cover + ending"
   ]
  },
  {
   "cell_type": "code",
   "execution_count": null,
   "metadata": {},
   "outputs": [],
   "source": [
    "def send_email(title, content, receiver):\n",
    "    text = MIMEText(content, 'plain', 'utf-8')\n",
    "    # 打开简历文件\n",
    "    with open(\"简历.pdf\", 'rb') as pdf_file:\n",
    "        pdf = MIMEApplication(pdf_file.read(), _subtype = 'pdf')\n",
    "    pdf.add_header('content-disposition', 'attachment', filename=\"%s.pdf\" % title)\n",
    "    message = MIMEMultipart(_subparts=(text, pdf))\n",
    "    message['Subject'] = Header(title, 'utf-8')\n",
    "    message['From'] = Header(\"自定义\", 'utf-8')  \n",
    "    smtp.sendmail(sender, receiver, message.as_string())    \n",
    "    return message"
   ]
  },
  {
   "cell_type": "code",
   "execution_count": null,
   "metadata": {},
   "outputs": [],
   "source": [
    "# 登录qq邮箱，password是16位smtp功能验证码\n",
    "# sender是你的邮箱\n",
    "# username是你邮箱@之前的部分\n",
    "password = \"\"\n",
    "sender = \"123456@qq.com\"\n",
    "username = \"123456\"\n",
    "smtp = smtplib.SMTP()    \n",
    "smtp.connect('smtp.qq.com')\n",
    "smtp.login(username, password)  "
   ]
  },
  {
   "cell_type": "code",
   "execution_count": null,
   "metadata": {},
   "outputs": [],
   "source": [
    "# 开始发送\n",
    "failures = []\n",
    "success = []\n",
    "for job in job_list:\n",
    "    #[separation, job_title, job_email, email_title, job_descrip]\n",
    "    sepa = job[0]\n",
    "    receiver = job[2]\n",
    "    email_title = job[3]\n",
    "    job_descrip = job[4]\n",
    "    print(job[1])\n",
    "    print(job_descrip)\n",
    "    whether_to_send = input(\"是否发送邮件：\")\n",
    "    if whether_to_send == \"N\":\n",
    "        continue\n",
    "    print(receiver)\n",
    "    check_email = input(\"邮箱是否正确？\")\n",
    "    if check_mail != \"Y\":\n",
    "        receiver = check_email\n",
    "    title = get_real_title(sepa, email_title)\n",
    "    try:\n",
    "        content = write_content(job_email, job_descrip)\n",
    "        msg = send_email(title, content)\n",
    "        success.append(receiver)\n",
    "    except:\n",
    "        failures.append(job)"
   ]
  },
  {
   "cell_type": "code",
   "execution_count": null,
   "metadata": {},
   "outputs": [],
   "source": [
    "failures"
   ]
  },
  {
   "cell_type": "code",
   "execution_count": null,
   "metadata": {},
   "outputs": [],
   "source": [
    "smtp.quit()"
   ]
  }
 ],
 "metadata": {
  "kernelspec": {
   "display_name": "Python 3",
   "language": "python",
   "name": "python3"
  },
  "language_info": {
   "codemirror_mode": {
    "name": "ipython",
    "version": 3
   },
   "file_extension": ".py",
   "mimetype": "text/x-python",
   "name": "python",
   "nbconvert_exporter": "python",
   "pygments_lexer": "ipython3",
   "version": "3.8.3"
  }
 },
 "nbformat": 4,
 "nbformat_minor": 4
}
